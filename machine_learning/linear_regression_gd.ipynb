{
 "cells": [
  {
   "cell_type": "markdown",
   "metadata": {},
   "source": [
    "# 基于梯度下降的线性回归模型"
   ]
  },
  {
   "cell_type": "markdown",
   "metadata": {},
   "source": [
    "本文主要介绍了使用梯度下降方法实现的线性回归模型，并且可视化了权重在cost图中的路径"
   ]
  },
  {
   "cell_type": "markdown",
   "metadata": {},
   "source": [
    "## 主要使用的公式"
   ]
  },
  {
   "cell_type": "markdown",
   "metadata": {},
   "source": [
    "首先定义和推导一些需要使用到的主要公式"
   ]
  },
  {
   "cell_type": "markdown",
   "metadata": {},
   "source": [
    "- hypothesis function"
   ]
  },
  {
   "cell_type": "markdown",
   "metadata": {},
   "source": [
    "\\begin{equation} \n",
    "h_\\theta(x) = \\theta_0 + \\theta_1x_1 + ... + \\theta_nx_n\n",
    "\\end{equation}"
   ]
  },
  {
   "cell_type": "markdown",
   "metadata": {},
   "source": [
    "- cost function"
   ]
  },
  {
   "cell_type": "markdown",
   "metadata": {},
   "source": [
    "\\begin{equation}\n",
    "J(\\theta) = \\frac{1}{2m}\\displaystyle\\sum_{i=1}^{m}(h_\\theta(x^{(i)}) - y^{(i)})^{2}\n",
    "\\end{equation}"
   ]
  },
  {
   "cell_type": "markdown",
   "metadata": {},
   "source": [
    "- 权重梯度"
   ]
  },
  {
   "cell_type": "markdown",
   "metadata": {},
   "source": [
    "\\begin{equation}\n",
    "\\frac{\\partial}{\\partial\\theta_n}J(\\theta) = \\frac{1}{m}\\displaystyle\\sum_{i=1}^{m}(h_\\theta(x^{i}) - y^{(i)})x_n^{(i)}\n",
    "\\end{equation}"
   ]
  },
  {
   "cell_type": "markdown",
   "metadata": {},
   "source": [
    "其中，用于偏置计算的$x_0^{(i)}$的是为1的向量"
   ]
  },
  {
   "cell_type": "markdown",
   "metadata": {},
   "source": [
    "- 权重更新"
   ]
  },
  {
   "cell_type": "markdown",
   "metadata": {},
   "source": [
    "\\begin{align}\n",
    "\\theta_n &= \\theta_n - \\alpha\\frac{\\partial}{\\partial\\theta_n}J(\\theta) \\\\\n",
    "&= \\theta_n - \\alpha\\frac{1}{m}\\displaystyle\\sum_{i=1}^{m}(h_\\theta(x^{i}) - y^{(i)})x_n^{(i)}\n",
    "\\end{align}"
   ]
  },
  {
   "cell_type": "markdown",
   "metadata": {},
   "source": [
    "## 线性回归模型实现"
   ]
  },
  {
   "cell_type": "code",
   "execution_count": 1,
   "metadata": {},
   "outputs": [],
   "source": [
    "import numpy as np\n",
    "import matplotlib.pyplot as plt"
   ]
  },
  {
   "cell_type": "code",
   "execution_count": 2,
   "metadata": {},
   "outputs": [],
   "source": [
    "class LinearRegressionGD:\n",
    "    def __init__(self, learning_rate=1e-3, n_iter=50, record_weights=False):\n",
    "        self.learning_rate = learning_rate\n",
    "        self.n_iter = n_iter\n",
    "        self.record_weights = record_weights\n",
    "        if record_weights:\n",
    "            self.recorded_weights = []\n",
    "        \n",
    "        self.costs = []\n",
    "        \n",
    "    def fit(self, X, y):\n",
    "        # 增加一列全为1的向量，用于更新偏置\n",
    "        train_X = np.column_stack((np.ones(X.shape[0]), X))\n",
    "        # 随机初始化权重\n",
    "        self.weights = np.random.normal(scale=0.05, size=train_X.shape[1])\n",
    "        for i in range(self.n_iter):\n",
    "            outputs = self.__cal_output(train_X)\n",
    "            errors = outputs - y\n",
    "            \n",
    "            cost = self.__cal_cost(errors)\n",
    "            self.costs.append(cost)\n",
    "            \n",
    "            # 更新权重(公式4)\n",
    "            self.weights = self.weights - self.learning_rate * self.__cal_weights_gradient(train_X, errors)\n",
    "            if self.record_weights:\n",
    "                self.recorded_weights.append(np.copy(self.weights))\n",
    "\n",
    "        if self.record_weights:\n",
    "            self.recorded_weights = np.array(self.recorded_weights)\n",
    "    \n",
    "    # 计算模型输出(公式1)\n",
    "    def __cal_output(self, X):\n",
    "        return np.dot(X, self.weights)\n",
    "\n",
    "    # 计算cost(公式2)\n",
    "    def __cal_cost(self, errors):\n",
    "        return np.square(errors).sum() / (2 * len(errors))\n",
    "    \n",
    "    # 计算权重梯度(公式3)\n",
    "    def __cal_weights_gradient(self, X, errors):\n",
    "        return np.dot(X.T, errors) / len(errors)\n",
    "    \n",
    "    def get_weights(self):\n",
    "        return {'bias': self.weights[0], 'weights': self.weights[1:]}\n",
    "    \n",
    "    def predict(self, X):\n",
    "        return self.__cal_output(X)\n",
    "    \n",
    "    # 绘制cost下降情况\n",
    "    def plot_cost(self, start=0, end=None, max_cost=None):\n",
    "        # 由于初始时的cost非常大，因此可以设定一个max_cost，只展示此cost以下的情况，便于观察cost下降\n",
    "        if max_cost:\n",
    "            plot_cost = [cost for cost in self.costs if cost <= max_cost]\n",
    "        else:\n",
    "            plot_cost = self.costs[start:end]\n",
    "        plt.plot(plot_cost)\n",
    "        plt.show()"
   ]
  },
  {
   "cell_type": "markdown",
   "metadata": {},
   "source": [
    "## 训练模型"
   ]
  },
  {
   "cell_type": "markdown",
   "metadata": {},
   "source": [
    "- 生成模拟数据"
   ]
  },
  {
   "cell_type": "markdown",
   "metadata": {},
   "source": [
    "根据公式  \n",
    "$y = 4 + x_0 + 2x_1 + 3x_2 + \\varepsilon$, 其中$\\varepsilon \\sim N(0, 1)$  \n",
    "来生成模拟数据用于训练模型"
   ]
  },
  {
   "cell_type": "code",
   "execution_count": 3,
   "metadata": {},
   "outputs": [],
   "source": [
    "X = np.column_stack((np.random.normal(size=500), np.random.normal(3, 2, 500), np.random.normal(5, 3, 500)))\n",
    "y = np.apply_along_axis(lambda x: x[0] + x[1] * 2 + x[2] * 3 + 4 + np.random.randn(1)[0], 1, X)"
   ]
  },
  {
   "cell_type": "markdown",
   "metadata": {},
   "source": [
    "- 训练模型"
   ]
  },
  {
   "cell_type": "code",
   "execution_count": 4,
   "metadata": {},
   "outputs": [],
   "source": [
    "lr = LinearRegressionGD(learning_rate=0.01, n_iter=20000)\n",
    "\n",
    "lr.fit(X, y)"
   ]
  },
  {
   "cell_type": "markdown",
   "metadata": {},
   "source": [
    "- 查看回归的权重"
   ]
  },
  {
   "cell_type": "code",
   "execution_count": 5,
   "metadata": {},
   "outputs": [
    {
     "data": {
      "text/plain": [
       "{'bias': 4.018006672485539,\n",
       " 'weights': array([1.00088658, 2.01130946, 2.99456303])}"
      ]
     },
     "execution_count": 5,
     "metadata": {},
     "output_type": "execute_result"
    }
   ],
   "source": [
    "lr.get_weights()"
   ]
  },
  {
   "cell_type": "markdown",
   "metadata": {},
   "source": [
    "模型的权重非常接近模拟生成数据的公式"
   ]
  },
  {
   "cell_type": "markdown",
   "metadata": {},
   "source": [
    "- 查看cost的下降情况"
   ]
  },
  {
   "cell_type": "code",
   "execution_count": 6,
   "metadata": {},
   "outputs": [
    {
     "data": {
      "image/png": "[encoded data removed]",
      "text/plain": [
       "<matplotlib.figure.Figure at 0x108a76198>"
      ]
     },
     "metadata": {},
     "output_type": "display_data"
    }
   ],
   "source": [
    "lr.plot_cost(max_cost=0.8)"
   ]
  },
  {
   "cell_type": "markdown",
   "metadata": {},
   "source": [
    "## 可视化梯度下降"
   ]
  },
  {
   "cell_type": "markdown",
   "metadata": {},
   "source": [
    "- 生成模拟数据"
   ]
  },
  {
   "cell_type": "markdown",
   "metadata": {},
   "source": [
    "定义一个只有一个变量的模拟数据，这样可以方便可视化梯度下降"
   ]
  },
  {
   "cell_type": "code",
   "execution_count": 7,
   "metadata": {},
   "outputs": [],
   "source": [
    "X = np.random.randn(100, 1)\n",
    "y = 2 + 2 * X.flatten() + np.random.randn(100)"
   ]
  },
  {
   "cell_type": "code",
   "execution_count": 8,
   "metadata": {},
   "outputs": [],
   "source": [
    "lr_record = LinearRegressionGD(n_iter=5000, record_weights=True)\n",
    "lr_record.fit(X, y)"
   ]
  },
  {
   "cell_type": "code",
   "execution_count": 9,
   "metadata": {},
   "outputs": [
    {
     "data": {
      "text/plain": [
       "{'bias': 1.9209353320338958, 'weights': array([1.95433363])}"
      ]
     },
     "execution_count": 9,
     "metadata": {},
     "output_type": "execute_result"
    }
   ],
   "source": [
    "lr_record.get_weights()"
   ]
  },
  {
   "cell_type": "markdown",
   "metadata": {},
   "source": [
    "- 计算在\\[-0.5, 3.5\\]区间内的cost"
   ]
  },
  {
   "cell_type": "code",
   "execution_count": 10,
   "metadata": {},
   "outputs": [],
   "source": [
    "def cal_costs(theta0, theta1, X, y):\n",
    "    X_ = np.column_stack((np.ones(X.shape[0]), X))\n",
    "    errors = np.dot(X_, np.array([theta0, theta1])) - y\n",
    "    return np.square(errors).sum() / (2 * len(errors))"
   ]
  },
  {
   "cell_type": "code",
   "execution_count": 11,
   "metadata": {},
   "outputs": [],
   "source": [
    "x_range = np.linspace(-0.5, 3.5, num=150)\n",
    "y_range = np.linspace(-0.5, 3.5, num=150)\n",
    "xv, yv = np.meshgrid(x_range, y_range)\n",
    "costs = []\n",
    "for x_ in np.array([xv.flatten(), yv.flatten()]).T:\n",
    "    cost = cal_costs(x_[0], x_[1], X, y)\n",
    "    costs.append(cost)\n",
    "\n",
    "costs = np.array(costs).reshape(xv.shape)\n",
    "weights = lr_record.recorded_weights"
   ]
  },
  {
   "cell_type": "markdown",
   "metadata": {},
   "source": [
    "- 绘制权重的在cost图中的移动路径"
   ]
  },
  {
   "cell_type": "code",
   "execution_count": 14,
   "metadata": {},
   "outputs": [
    {
     "data": {
      "image/png": "[encoded data removed]",
      "text/plain": [
       "<matplotlib.figure.Figure at 0x109264630>"
      ]
     },
     "metadata": {},
     "output_type": "display_data"
    }
   ],
   "source": [
    "from matplotlib import cm\n",
    "\n",
    "fig = plt.figure(figsize=(10, 8))\n",
    "cs = plt.contourf(xv, yv, costs, alpha=0.2, cmap=cm.viridis)\n",
    "cbar = fig.colorbar(cs)\n",
    "plt.plot(weights[:, 0], weights[:, 1])\n",
    "plt.scatter(weights[:, 0][:4000:500], weights[:, 1][:4000:500],\n",
    "            marker='x', color='red', alpha=0.75)\n",
    "plt.scatter(weights[-1, 0], weights[-1, 1], marker='o', color='red')\n",
    "\n",
    "plt.show()"
   ]
  }
 ],
 "metadata": {
  "kernelspec": {
   "display_name": "Python 3",
   "language": "python",
   "name": "python3"
  },
  "language_info": {
   "codemirror_mode": {
    "name": "ipython",
    "version": 3
   },
   "file_extension": ".py",
   "mimetype": "text/x-python",
   "name": "python",
   "nbconvert_exporter": "python",
   "pygments_lexer": "ipython3",
   "version": "3.6.3"
  }
 },
 "nbformat": 4,
 "nbformat_minor": 2
}
