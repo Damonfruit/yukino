{
 "cells": [
  {
   "cell_type": "markdown",
   "metadata": {},
   "source": [
    "# 基于卷积模型的数字与操作符图像识别模型"
   ]
  },
  {
   "cell_type": "markdown",
   "metadata": {},
   "source": [
    "本文主要介绍了使用keras来构建卷积网络模型进行数字与操作符的图像识别  \n",
    "首先使用了`captcha`来生成指定图像，这里将会生成3个图像，分别为2个数字，1个操作符作品输入，随后构建`VGG-like`的卷积网络进行训练，使用训练好的模型对新生成的图像进行预测"
   ]
  },
  {
   "cell_type": "code",
   "execution_count": 1,
   "metadata": {},
   "outputs": [],
   "source": [
    "import string\n",
    "import numpy as np\n",
    "import matplotlib.pyplot as plt\n",
    "from PIL import Image\n",
    "from captcha.image import ImageCaptcha"
   ]
  },
  {
   "cell_type": "markdown",
   "metadata": {},
   "source": [
    "## 数据生成"
   ]
  },
  {
   "cell_type": "markdown",
   "metadata": {},
   "source": [
    "使用`captcha`来生成样例图像"
   ]
  },
  {
   "cell_type": "code",
   "execution_count": 2,
   "metadata": {},
   "outputs": [],
   "source": [
    "HEIGHT = 60\n",
    "WIDTH = 30\n",
    "\n",
    "# 指定数字与操作符的图像大小\n",
    "image_captcha = ImageCaptcha(width=WIDTH, height=HEIGHT)\n",
    "# 指定输出答案的图像大小\n",
    "image_captcha_answer = ImageCaptcha(width=100, height=60)"
   ]
  },
  {
   "cell_type": "markdown",
   "metadata": {},
   "source": [
    "生成一个`7+4=11`的样例图像"
   ]
  },
  {
   "cell_type": "code",
   "execution_count": 3,
   "metadata": {},
   "outputs": [
    {
     "name": "stdout",
     "output_type": "stream",
     "text": [
      "shape: (60, 190, 3)\n"
     ]
    },
    {
     "data": {
      "image/png": "[encoded data removed]",
      "text/plain": [
       "<matplotlib.figure.Figure at 0x1f2255dba58>"
      ]
     },
     "metadata": {},
     "output_type": "display_data"
    }
   ],
   "source": [
    "captcha1 = image_captcha.generate('7')\n",
    "captcha_image1 = Image.open(captcha1)\n",
    "arr1 = np.array(captcha_image1)\n",
    "\n",
    "captcha_op = image_captcha.generate('+')\n",
    "captcha_image_op = Image.open(captcha_op)\n",
    "arr_op = np.array(captcha_image_op)\n",
    "\n",
    "captcha2 = image_captcha.generate('4')\n",
    "captcha_image2 = Image.open(captcha2)\n",
    "arr2 = np.array(captcha_image2)\n",
    "\n",
    "answer = image_captcha_answer.generate('=11')\n",
    "captcha_answer = Image.open(answer)\n",
    "arr_answer = np.array(captcha_answer)\n",
    "\n",
    "arr = np.hstack((arr1, arr_op, arr2, arr_answer))\n",
    "print('shape:', arr.shape)\n",
    "plt.imshow(arr)\n",
    "plt.show()"
   ]
  },
  {
   "cell_type": "markdown",
   "metadata": {},
   "source": [
    "主要思路是将`7`、`+`和`4`的图像最为输入来训练模型，使模型能够正确识别数字与操作符，进行运算返回正确答案"
   ]
  },
  {
   "cell_type": "markdown",
   "metadata": {},
   "source": [
    "作为示例，为了简化计算，我们的输入数字限定为0到9，输入的操作符号限定为`+`、`-`、`*`和`/`"
   ]
  },
  {
   "cell_type": "code",
   "execution_count": 4,
   "metadata": {},
   "outputs": [
    {
     "data": {
      "text/plain": [
       "({0: '+', 1: '-', 2: '*', 3: '/'}, {'*': 2, '+': 0, '-': 1, '/': 3})"
      ]
     },
     "execution_count": 4,
     "metadata": {},
     "output_type": "execute_result"
    }
   ],
   "source": [
    "# 数字范围\n",
    "DIGIT_RANGE = np.arange(10)\n",
    "DIGIT_SIZE = DIGIT_RANGE.size\n",
    "\n",
    "# 操作符号范围\n",
    "OPS_RANGE = ['+', '-', '*', '/']\n",
    "OPS_SIZE = len(OPS_RANGE)\n",
    "\n",
    "# 将操作符号编码\n",
    "OPS_TO_INDEX = {op:i for i, op in enumerate(OPS_RANGE)}\n",
    "INDEX_TO_OPS = {i:op for op, i in OPS_TO_INDEX.items()}\n",
    "\n",
    "INDEX_TO_OPS, OPS_TO_INDEX"
   ]
  },
  {
   "cell_type": "markdown",
   "metadata": {},
   "source": [
    "将数字和操作符的标签(label)进行编码，转为one-hot形式"
   ]
  },
  {
   "cell_type": "code",
   "execution_count": 5,
   "metadata": {},
   "outputs": [],
   "source": [
    "# 编码数字标签\n",
    "def encode_number_label(num_label):\n",
    "    label_encoded = np.zeros((len(num_label), DIGIT_SIZE), dtype=np.int8)\n",
    "    for i, num in enumerate(num_label):\n",
    "        label_encoded[i, num] = 1\n",
    "    return label_encoded\n",
    "\n",
    "# 解码数字标签\n",
    "def decode_numer_label(num_label_vector):\n",
    "    labels = []\n",
    "    for vec in num_label_vector:\n",
    "        index = np.argmax(vec)\n",
    "        labels.append(index)\n",
    "    return labels\n",
    "\n",
    "# 编码操作符标签\n",
    "def encode_ops_label(ops_label):\n",
    "    label_encoded = np.zeros((len(ops_label), OPS_SIZE), dtype=np.int8)\n",
    "    for i, op in enumerate(ops_label):\n",
    "        label_encoded[i, OPS_TO_INDEX[op]] = 1\n",
    "    return label_encoded\n",
    "\n",
    "# 解码操作符标签\n",
    "def decode_ops_label(ops_label_vector):\n",
    "    labels = []\n",
    "    for vec in ops_label_vector:\n",
    "        index = np.argmax(vec)\n",
    "        labels.append(INDEX_TO_OPS[index])\n",
    "    return labels"
   ]
  },
  {
   "cell_type": "markdown",
   "metadata": {},
   "source": [
    "定义生成器来批量产生图像数据和其标签"
   ]
  },
  {
   "cell_type": "code",
   "execution_count": 6,
   "metadata": {},
   "outputs": [],
   "source": [
    "# 返回指定的图像\n",
    "def get_img_arr(img_str):\n",
    "    captcha = image_captcha.generate(img_str)\n",
    "    captcha_image = Image.open(captcha)\n",
    "    arr = np.array(captcha_image)\n",
    "    # 将R、G、B的值转换到0-1之间\n",
    "    arr = arr / 255\n",
    "    return arr\n",
    "\n",
    "# 数字图像生成器\n",
    "def generate_num_data(batch_size=128):\n",
    "    while True:\n",
    "        X = np.zeros((batch_size, HEIGHT, WIDTH, 3)) \n",
    "        y_label = []\n",
    "        nums = np.random.randint(10, size=batch_size)\n",
    "        for i, num in enumerate(nums):\n",
    "            y_label.append(num)\n",
    "            img_str = str(num)\n",
    "            X[i] = get_img_arr(img_str)\n",
    "        y_label_encoded = encode_number_label(y_label)\n",
    "        yield X, y_label_encoded\n",
    "        \n",
    "# 符号图像生成器        \n",
    "def generate_ops_data(batch_size=128):\n",
    "    while True:\n",
    "        X = np.zeros((batch_size, HEIGHT, WIDTH, 3))\n",
    "        y_label = []\n",
    "        ops = np.random.choice(OPS_RANGE, size=batch_size)\n",
    "        for i, op in enumerate(ops):\n",
    "            y_label.append(op)\n",
    "            X[i] = get_img_arr(op)\n",
    "        y_label_encoded = encode_ops_label(y_label)\n",
    "        yield X, y_label_encoded"
   ]
  },
  {
   "cell_type": "markdown",
   "metadata": {},
   "source": [
    "测试我们定义的生成器"
   ]
  },
  {
   "cell_type": "code",
   "execution_count": 7,
   "metadata": {},
   "outputs": [
    {
     "name": "stdout",
     "output_type": "stream",
     "text": [
      "(16, 60, 30, 3)\n"
     ]
    },
    {
     "data": {
      "image/png": "[encoded data removed]",
      "text/plain": [
       "<matplotlib.figure.Figure at 0x1f2276df4a8>"
      ]
     },
     "metadata": {},
     "output_type": "display_data"
    },
    {
     "name": "stdout",
     "output_type": "stream",
     "text": [
      "num:  2\n"
     ]
    }
   ],
   "source": [
    "test_num_generate = generate_num_data(16)\n",
    "for X, y in test_num_generate:\n",
    "    print(X.shape)\n",
    "    plt.imshow(X[0])\n",
    "    plt.show()\n",
    "    print('num: ', decode_numer_label(y)[0])\n",
    "    break"
   ]
  },
  {
   "cell_type": "code",
   "execution_count": 8,
   "metadata": {},
   "outputs": [
    {
     "name": "stdout",
     "output_type": "stream",
     "text": [
      "(16, 60, 30, 3)\n"
     ]
    },
    {
     "data": {
      "image/png": "[encoded data removed]",
      "text/plain": [
       "<matplotlib.figure.Figure at 0x1f22777cc88>"
      ]
     },
     "metadata": {},
     "output_type": "display_data"
    },
    {
     "name": "stdout",
     "output_type": "stream",
     "text": [
      "ops:  -\n"
     ]
    }
   ],
   "source": [
    "test_ops_generate = generate_ops_data(16)\n",
    "for X, y in test_ops_generate:\n",
    "    print(X.shape)\n",
    "    plt.imshow(X[0])\n",
    "    plt.show()\n",
    "    print('ops: ', decode_ops_label(y)[0])\n",
    "    break"
   ]
  },
  {
   "cell_type": "markdown",
   "metadata": {},
   "source": [
    "## 训练卷积网络模型"
   ]
  },
  {
   "cell_type": "markdown",
   "metadata": {},
   "source": [
    "作为示例，这里分别对数字图像和操作符图像构建两个VGG-Like的卷积网络模型"
   ]
  },
  {
   "cell_type": "code",
   "execution_count": 9,
   "metadata": {},
   "outputs": [
    {
     "name": "stderr",
     "output_type": "stream",
     "text": [
      "D:\\Coding\\Anaconda3\\lib\\site-packages\\h5py\\__init__.py:36: FutureWarning: Conversion of the second argument of issubdtype from `float` to `np.floating` is deprecated. In future, it will be treated as `np.float64 == np.dtype(float).type`.\n",
      "  from ._conv import register_converters as _register_converters\n",
      "Using TensorFlow backend.\n"
     ]
    }
   ],
   "source": [
    "from keras import layers\n",
    "from keras.models import Model\n",
    "from keras.callbacks import TensorBoard\n",
    "import time"
   ]
  },
  {
   "cell_type": "code",
   "execution_count": 10,
   "metadata": {},
   "outputs": [],
   "source": [
    "# 定义3个卷积层\n",
    "conv_layer_num = 3"
   ]
  },
  {
   "cell_type": "markdown",
   "metadata": {},
   "source": [
    "- 数字模型"
   ]
  },
  {
   "cell_type": "code",
   "execution_count": 11,
   "metadata": {},
   "outputs": [],
   "source": [
    "inputs = layers.Input(shape=(HEIGHT, WIDTH, 3))\n",
    "\n",
    "x = inputs\n",
    "for i in range(conv_layer_num):\n",
    "    x = layers.Conv2D(32 * 2 ** i, (3, 3), activation='relu', padding='same')(x)\n",
    "    x = layers.Conv2D(32 * 2 ** i, (3, 3), activation='relu', padding='same')(x)\n",
    "    x = layers.MaxPool2D((2, 2))(x)\n",
    "    x = layers.Dropout(0.25)(x)\n",
    "    \n",
    "x = layers.Flatten()(x)\n",
    "x = layers.Dense(512, activation='relu')(x)\n",
    "x = layers.Dense(256, activation='relu')(x)\n",
    "\n",
    "outputs = layers.Dense(DIGIT_SIZE, activation='softmax')(x)\n",
    "\n",
    "num_model = Model(inputs=inputs, outputs=outputs)"
   ]
  },
  {
   "cell_type": "code",
   "execution_count": 12,
   "metadata": {},
   "outputs": [],
   "source": [
    "num_model.compile(optimizer='adam',\n",
    "                  loss='categorical_crossentropy',\n",
    "                  metrics=['accuracy'])"
   ]
  },
  {
   "cell_type": "markdown",
   "metadata": {},
   "source": [
    "训练数字模型"
   ]
  },
  {
   "cell_type": "code",
   "execution_count": 13,
   "metadata": {},
   "outputs": [
    {
     "data": {
      "text/plain": [
       "<keras.callbacks.History at 0x1f2310acc88>"
      ]
     },
     "execution_count": 13,
     "metadata": {},
     "output_type": "execute_result"
    }
   ],
   "source": [
    "tensorboard = TensorBoard(log_dir='models/num_%s' % time.strftime('%Y-%m-%d_%H-%M-%S'), write_graph=True)\n",
    "\n",
    "num_model.fit_generator(generate_num_data(), steps_per_epoch=128, epochs=30, \n",
    "                        validation_data=generate_num_data(), validation_steps=10, \n",
    "                        callbacks=[tensorboard], verbose=0)"
   ]
  },
  {
   "cell_type": "markdown",
   "metadata": {},
   "source": [
    "测试数字模型"
   ]
  },
  {
   "cell_type": "code",
   "execution_count": 14,
   "metadata": {},
   "outputs": [
    {
     "data": {
      "image/png": "[encoded data removed]",
      "text/plain": [
       "<matplotlib.figure.Figure at 0x1f24c1092e8>"
      ]
     },
     "metadata": {},
     "output_type": "display_data"
    },
    {
     "name": "stdout",
     "output_type": "stream",
     "text": [
      "predict num:  8\n"
     ]
    }
   ],
   "source": [
    "captcha_num = image_captcha.generate('8')\n",
    "captcha_num_image = Image.open(captcha_num)\n",
    "arr = np.array(captcha_num_image)\n",
    "\n",
    "y = num_model.predict(arr[np.newaxis, ...])\n",
    "\n",
    "plt.imshow(arr)\n",
    "plt.show()\n",
    "print('predict num: ', decode_numer_label(y)[0])"
   ]
  },
  {
   "cell_type": "markdown",
   "metadata": {},
   "source": [
    "- 操作符模型"
   ]
  },
  {
   "cell_type": "code",
   "execution_count": 15,
   "metadata": {},
   "outputs": [],
   "source": [
    "inputs = layers.Input(shape=(HEIGHT, WIDTH, 3))\n",
    "\n",
    "x = inputs\n",
    "for i in range(conv_layer_num):\n",
    "    x = layers.Conv2D(32 * 2 ** i, (3, 3), activation='relu', padding='same')(x)\n",
    "    x = layers.Conv2D(32 * 2 ** i, (3, 3), activation='relu', padding='same')(x)\n",
    "    x = layers.MaxPool2D((2, 2))(x)\n",
    "    x = layers.Dropout(0.25)(x)\n",
    "    \n",
    "x = layers.Flatten()(x)\n",
    "x = layers.Dense(512, activation='relu')(x)\n",
    "x = layers.Dense(256, activation='relu')(x)\n",
    "\n",
    "outputs = layers.Dense(OPS_SIZE, activation='softmax')(x)\n",
    "\n",
    "ops_model = Model(inputs=inputs, outputs=outputs)"
   ]
  },
  {
   "cell_type": "code",
   "execution_count": 16,
   "metadata": {},
   "outputs": [],
   "source": [
    "ops_model.compile(optimizer='adam',\n",
    "                  loss='categorical_crossentropy',\n",
    "                  metrics=['accuracy'])"
   ]
  },
  {
   "cell_type": "markdown",
   "metadata": {},
   "source": [
    "训练操作符模型"
   ]
  },
  {
   "cell_type": "code",
   "execution_count": 17,
   "metadata": {},
   "outputs": [
    {
     "data": {
      "text/plain": [
       "<keras.callbacks.History at 0x1f231612b70>"
      ]
     },
     "execution_count": 17,
     "metadata": {},
     "output_type": "execute_result"
    }
   ],
   "source": [
    "tensorboard = TensorBoard(log_dir='models/ops_%s' % time.strftime('%Y-%m-%d_%H-%M-%S'), write_graph=True)\n",
    "\n",
    "ops_model.fit_generator(generate_ops_data(), steps_per_epoch=128, epochs=30, \n",
    "                        validation_data=generate_ops_data(), validation_steps=10, \n",
    "                        callbacks=[tensorboard], verbose=0)"
   ]
  },
  {
   "cell_type": "markdown",
   "metadata": {},
   "source": [
    "测试操作符识别模型"
   ]
  },
  {
   "cell_type": "code",
   "execution_count": 18,
   "metadata": {},
   "outputs": [
    {
     "data": {
      "image/png": "[encoded data removed]",
      "text/plain": [
       "<matplotlib.figure.Figure at 0x1f3e2c20668>"
      ]
     },
     "metadata": {},
     "output_type": "display_data"
    },
    {
     "name": "stdout",
     "output_type": "stream",
     "text": [
      "predict num:  *\n"
     ]
    }
   ],
   "source": [
    "captcha_op = image_captcha.generate('*')\n",
    "captcha_op_image = Image.open(captcha_op)\n",
    "arr = np.array(captcha_op_image)\n",
    "\n",
    "y = ops_model.predict(arr[np.newaxis, ...])\n",
    "\n",
    "plt.imshow(arr)\n",
    "plt.show()\n",
    "print('predict num: ', decode_ops_label(y)[0])"
   ]
  },
  {
   "cell_type": "markdown",
   "metadata": {},
   "source": [
    "## 测试模型"
   ]
  },
  {
   "cell_type": "markdown",
   "metadata": {},
   "source": [
    "生成2张数字图像和1张操作符图像来测试一下我们的模型"
   ]
  },
  {
   "cell_type": "code",
   "execution_count": 20,
   "metadata": {},
   "outputs": [
    {
     "data": {
      "image/png": "[encoded data removed]",
      "text/plain": [
       "<matplotlib.figure.Figure at 0x1f3e3d2fac8>"
      ]
     },
     "metadata": {},
     "output_type": "display_data"
    },
    {
     "name": "stdout",
     "output_type": "stream",
     "text": [
      "predict:  8 * 4 =32\n"
     ]
    }
   ],
   "source": [
    "# 计算函数\n",
    "def cal_num_op(num1, op, num2):\n",
    "    num1 = int(num1)\n",
    "    num2 = int(num2)\n",
    "    if op == '+':\n",
    "        res = num1 + num2\n",
    "    elif op == '-':\n",
    "        res = num1 - num2\n",
    "    elif op == '*':\n",
    "        res = num1 * num2\n",
    "    else:\n",
    "        res = round(num1 / num2, 1)\n",
    "    return str(res)\n",
    "\n",
    "# 生成第一个数字图像\n",
    "captcha1 = image_captcha.generate('8')\n",
    "captcha_image1 = Image.open(captcha1)\n",
    "arr1 = np.array(captcha_image1)\n",
    "pred_num1 = num_model.predict(arr1[np.newaxis, ...])\n",
    "pred_num1 = decode_numer_label(pred_num1)[0]\n",
    "\n",
    "# 生成操作符图像\n",
    "captcha_op = image_captcha.generate('*')\n",
    "captcha_image_op = Image.open(captcha_op)\n",
    "arr_op = np.array(captcha_image_op)\n",
    "pred_op = ops_model.predict(arr_op[np.newaxis, ...])\n",
    "pred_op = decode_ops_label(pred_op)[0]\n",
    "\n",
    "# 生成第二个数字图像\n",
    "captcha2 = image_captcha.generate('4')\n",
    "captcha_image2 = Image.open(captcha2)\n",
    "arr2 = np.array(captcha_image2)\n",
    "pred_num2 = num_model.predict(arr2[np.newaxis, ...])\n",
    "pred_num2 = decode_numer_label(pred_num2)[0]\n",
    "\n",
    "# 根据预测计算最终的输出结果\n",
    "answer_str = '=' + cal_num_op(pred_num1, pred_op, pred_num2)\n",
    "answer = image_captcha_answer.generate(answer_str)\n",
    "captcha_answer = Image.open(answer)\n",
    "arr_answer = np.array(captcha_answer)\n",
    "\n",
    "arr = np.hstack((arr1, arr_op, arr2, arr_answer))\n",
    "plt.imshow(arr)\n",
    "plt.show()\n",
    "print('predict: ', '8 * 4', answer_str)"
   ]
  }
 ],
 "metadata": {
  "kernelspec": {
   "display_name": "Python 3",
   "language": "python",
   "name": "python3"
  },
  "language_info": {
   "codemirror_mode": {
    "name": "ipython",
    "version": 3
   },
   "file_extension": ".py",
   "mimetype": "text/x-python",
   "name": "python",
   "nbconvert_exporter": "python",
   "pygments_lexer": "ipython3",
   "version": "3.6.3"
  }
 },
 "nbformat": 4,
 "nbformat_minor": 2
}
