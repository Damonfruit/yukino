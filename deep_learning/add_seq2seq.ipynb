{
 "cells": [
  {
   "cell_type": "markdown",
   "metadata": {},
   "source": [
    "# 基于Sequence-to-Sequence模型实现的字符串序列数字相加"
   ]
  },
  {
   "cell_type": "markdown",
   "metadata": {},
   "source": [
    "本文主要介绍了使用keras来构建一个简单的seq2seq模型，来实现一个字符串序列数字相加的模型。  \n",
    "我们将会生成形如`(\"876+920\", \"0001796\")`、`(\"001+012\", \"0000013\")`这样的字符串序列对，训练一个seq2seq模型，输入前一个字符串序列，如`\"876+920\"`，输出字符串序列`\"0001796\"`"
   ]
  },
  {
   "cell_type": "code",
   "execution_count": 1,
   "metadata": {},
   "outputs": [],
   "source": [
    "import numpy as np\n",
    "import string\n",
    "\n",
    "np.random.seed(1024)"
   ]
  },
  {
   "cell_type": "markdown",
   "metadata": {},
   "source": [
    "定义字符集合以后字符串长度，这里我们使用的字符串长度为7"
   ]
  },
  {
   "cell_type": "code",
   "execution_count": 2,
   "metadata": {},
   "outputs": [],
   "source": [
    "CHAR_SET = string.digits + '+'\n",
    "CHAR_SET_LEN = len(CHAR_SET)\n",
    "STRING_LEN = 7"
   ]
  },
  {
   "cell_type": "code",
   "execution_count": 3,
   "metadata": {},
   "outputs": [],
   "source": [
    "CHAR_TO_INDEX = {c: i for i, c in enumerate(CHAR_SET)}\n",
    "INDEX_TO_CHAR = {i: c for c, i in CHAR_TO_INDEX.items()}"
   ]
  },
  {
   "cell_type": "markdown",
   "metadata": {},
   "source": [
    "定义将序列转为向量表示和向量表示转化为序列的函数"
   ]
  },
  {
   "cell_type": "code",
   "execution_count": 4,
   "metadata": {},
   "outputs": [],
   "source": [
    "def seq_to_vector(seq):\n",
    "    vector = np.zeros((STRING_LEN, CHAR_SET_LEN), dtype=int)\n",
    "    for i, char in enumerate(seq):\n",
    "        vector[i, CHAR_TO_INDEX[char]] = 1\n",
    "    return vector\n",
    "\n",
    "def vector_to_seq(vector):\n",
    "    seq = ''\n",
    "    for v in vector:\n",
    "        index = np.argmax(v)\n",
    "        seq = seq + INDEX_TO_CHAR[index]\n",
    "    return seq"
   ]
  },
  {
   "cell_type": "markdown",
   "metadata": {},
   "source": [
    "定义自动生成数据函数"
   ]
  },
  {
   "cell_type": "code",
   "execution_count": 5,
   "metadata": {},
   "outputs": [],
   "source": [
    "def build_data(size=10000):\n",
    "    num1 = np.random.randint(1000, size=size)\n",
    "    num2 = np.random.randint(1000, size=size)\n",
    "    add_result = num1 + num2\n",
    "    \n",
    "    seq_X = ['%03d' % x + '+' '%03d' % y for x, y in zip(num1, num2)]\n",
    "    seq_Y = ['%07d' % r for r in add_result]\n",
    "    \n",
    "    X = np.zeros((size, STRING_LEN, CHAR_SET_LEN), dtype=int)\n",
    "    Y = np.zeros((size, STRING_LEN, CHAR_SET_LEN), dtype=int)\n",
    "    \n",
    "    for i, seq in enumerate(zip(seq_X, seq_Y)):\n",
    "        X[i] = seq_to_vector(seq[0])\n",
    "        Y[i] = seq_to_vector(seq[1])\n",
    "        \n",
    "    return X, Y"
   ]
  },
  {
   "cell_type": "code",
   "execution_count": 6,
   "metadata": {},
   "outputs": [
    {
     "name": "stderr",
     "output_type": "stream",
     "text": [
      "Using TensorFlow backend.\n"
     ]
    }
   ],
   "source": [
    "from keras.models import Sequential\n",
    "from keras import layers\n",
    "\n",
    "HIDDEN_SIZE = 128"
   ]
  },
  {
   "cell_type": "markdown",
   "metadata": {},
   "source": [
    "构建一个简单的seq2seq模型"
   ]
  },
  {
   "cell_type": "code",
   "execution_count": 7,
   "metadata": {},
   "outputs": [],
   "source": [
    "model = Sequential()\n",
    "\n",
    "# Encoder\n",
    "model.add(layers.LSTM(HIDDEN_SIZE, input_shape=(STRING_LEN, CHAR_SET_LEN)))\n",
    "# 使用RepeatVector将Encoder的输出复制N份作为Decoder的N次输入\n",
    "model.add(layers.RepeatVector(STRING_LEN))\n",
    "# Decoder\n",
    "model.add(layers.LSTM(HIDDEN_SIZE, return_sequences=True))\n",
    "# 使用TimeDistributed将上一层输出应用到输入的每一个时间步上\n",
    "model.add(layers.TimeDistributed(layers.Dense(CHAR_SET_LEN)))\n",
    "model.add(layers.Activation('softmax'))\n",
    "\n",
    "model.compile(loss='categorical_crossentropy', optimizer='adam', metrics=['acc'])"
   ]
  },
  {
   "cell_type": "markdown",
   "metadata": {},
   "source": [
    "生成大小为10000的训练集和大小为5000的验证集"
   ]
  },
  {
   "cell_type": "code",
   "execution_count": 8,
   "metadata": {},
   "outputs": [],
   "source": [
    "train_X, train_Y = build_data(10000)\n",
    "test_X, test_Y = build_data(2000)"
   ]
  },
  {
   "cell_type": "markdown",
   "metadata": {},
   "source": [
    "训练模型"
   ]
  },
  {
   "cell_type": "code",
   "execution_count": 9,
   "metadata": {},
   "outputs": [
    {
     "data": {
      "text/plain": [
       "<keras.callbacks.History at 0x1198a35c0>"
      ]
     },
     "execution_count": 9,
     "metadata": {},
     "output_type": "execute_result"
    }
   ],
   "source": [
    "model.fit(train_X, train_Y, validation_data=(test_X, test_Y),\n",
    "          batch_size=128, epochs=200, \n",
    "          verbose=0)"
   ]
  },
  {
   "cell_type": "code",
   "execution_count": 10,
   "metadata": {},
   "outputs": [
    {
     "data": {
      "text/plain": [
       "(0.9988428497314453, 0.9952142930030823)"
      ]
     },
     "execution_count": 10,
     "metadata": {},
     "output_type": "execute_result"
    }
   ],
   "source": [
    "model.history.history['acc'][-1], model.history.history['val_acc'][-1]"
   ]
  },
  {
   "cell_type": "markdown",
   "metadata": {},
   "source": [
    "训练集的准确率高达99.88%，而验证集的准确率也达到了99.52%，模型的准确率还是很高的，接下来生成10个数据来看看模型的效果"
   ]
  },
  {
   "cell_type": "code",
   "execution_count": 11,
   "metadata": {},
   "outputs": [
    {
     "name": "stdout",
     "output_type": "stream",
     "text": [
      "x@997+677\ty@0001674\tpred@0001674\n",
      "x@073+178\ty@0000251\tpred@0000251\n",
      "x@354+074\ty@0000428\tpred@0000428\n",
      "x@898+682\ty@0001580\tpred@0001580\n",
      "x@704+116\ty@0000820\tpred@0000820\n",
      "x@686+199\ty@0000885\tpred@0000885\n",
      "x@803+106\ty@0000909\tpred@0000909\n",
      "x@130+231\ty@0000361\tpred@0000361\n",
      "x@426+846\ty@0001272\tpred@0001272\n",
      "x@662+193\ty@0000855\tpred@0000855\n"
     ]
    }
   ],
   "source": [
    "watch_X, watch_Y = build_data(10)\n",
    "watch_pred = model.predict(watch_X)\n",
    "\n",
    "for x, y, pred in zip(watch_X, watch_Y, watch_pred):\n",
    "    seq_x = vector_to_seq(x)\n",
    "    seq_y = vector_to_seq(y)\n",
    "    seq_pred = vector_to_seq(pred)\n",
    "    print(f'x@{seq_x}\\ty@{seq_y}\\tpred@{seq_pred}')"
   ]
  }
 ],
 "metadata": {
  "kernelspec": {
   "display_name": "Python 3",
   "language": "python",
   "name": "python3"
  },
  "language_info": {
   "codemirror_mode": {
    "name": "ipython",
    "version": 3
   },
   "file_extension": ".py",
   "mimetype": "text/x-python",
   "name": "python",
   "nbconvert_exporter": "python",
   "pygments_lexer": "ipython3",
   "version": "3.6.3"
  }
 },
 "nbformat": 4,
 "nbformat_minor": 2
}
