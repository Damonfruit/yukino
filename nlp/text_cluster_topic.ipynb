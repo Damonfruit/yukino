{
 "cells": [
  {
   "cell_type": "markdown",
   "metadata": {},
   "source": [
    "## 文档聚类与主题提取\n",
    "\n",
    "本文主要介绍使用K-means算法对文档进行聚类，并且使用LDA模型提取每个聚类中的关键词。使用的语料是`历史`的文档集合  \n",
    "本文的代码和使用的数据可以在[github](https://github.com/snowhyzhang/yukino/tree/master/nlp)上找到"
   ]
  },
  {
   "cell_type": "markdown",
   "metadata": {},
   "source": [
    "### 语料预处理"
   ]
  },
  {
   "cell_type": "markdown",
   "metadata": {},
   "source": [
    "获取语料路径"
   ]
  },
  {
   "cell_type": "code",
   "execution_count": 1,
   "metadata": {},
   "outputs": [
    {
     "data": {
      "text/plain": [
       "['data/C7-History/C7-History001.txt',\n",
       " 'data/C7-History/C7-History002.txt',\n",
       " 'data/C7-History/C7-History004.txt',\n",
       " 'data/C7-History/C7-History006.txt',\n",
       " 'data/C7-History/C7-History008.txt']"
      ]
     },
     "execution_count": 1,
     "metadata": {},
     "output_type": "execute_result"
    }
   ],
   "source": [
    "import glob\n",
    "\n",
    "doc_files = glob.glob('data/C7-History/*.txt')\n",
    "doc_files[:5]"
   ]
  },
  {
   "cell_type": "markdown",
   "metadata": {},
   "source": [
    "读入文档"
   ]
  },
  {
   "cell_type": "code",
   "execution_count": 2,
   "metadata": {},
   "outputs": [
    {
     "data": {
      "text/plain": [
       "454"
      ]
     },
     "execution_count": 2,
     "metadata": {},
     "output_type": "execute_result"
    }
   ],
   "source": [
    "documents = []\n",
    "\n",
    "for file in doc_files:\n",
    "    with open(file, encoding='GB18030') as f:\n",
    "        documents.append(f.read())\n",
    "len(documents)"
   ]
  },
  {
   "cell_type": "markdown",
   "metadata": {},
   "source": [
    "配置分词器，这里加入了一些自定义的参数"
   ]
  },
  {
   "cell_type": "code",
   "execution_count": 3,
   "metadata": {},
   "outputs": [],
   "source": [
    "import re\n",
    "import jieba\n",
    "import jieba.posseg as pseg\n",
    "\n",
    "# 读入停用词\n",
    "stopwords = set()\n",
    "with open('dict/stopwords.utf8.txt') as f:\n",
    "    for word in f.readlines():\n",
    "        word = word.strip()\n",
    "        stopwords.add(word)\n",
    "\n",
    "# 配置目标词性，只保留名词和动词\n",
    "def require_tag_func(tag):\n",
    "    return re.search(r'^n.*|^v.*', tag)\n",
    "\n",
    "# 只保留中文\n",
    "def post_word_process_func(word):\n",
    "    word = re.sub(r'[^\\u4e00-\\u9fa5]', '', word)\n",
    "    return word.strip()\n",
    "\n",
    "class ChineseTokenizer():\n",
    "    def __init__(self, stopwords=None, post_word_process_func=None, require_tag_func=None, min_length=1):\n",
    "        \"\"\"\n",
    "        配置分词器\n",
    "        \n",
    "        :param stopwords: 停用词\n",
    "        :param post_word_process_func: 后处理词函数\n",
    "        :param require_tag_func: 配置符合要求词性的函数\n",
    "        :param min_length: 词语最小长度\n",
    "        \"\"\"\n",
    "        self.stopwords = stopwords\n",
    "        self.post_word_process_func = post_word_process_func\n",
    "        self.require_tag_func = require_tag_func\n",
    "        self.min_length = min_length\n",
    "    \n",
    "    def post_process_word(self, word_tag):\n",
    "        word, tag = word_tag\n",
    "        word = word.strip()\n",
    "        if self.post_word_process_func:\n",
    "            word = post_word_process_func(word)\n",
    "        return (word, tag)\n",
    "    \n",
    "    def is_valid_word(self, word_tag):\n",
    "        word, tag = word_tag\n",
    "        if len(word) < self.min_length:\n",
    "            return False\n",
    "        if self.stopwords and word in self.stopwords:\n",
    "            return False\n",
    "        if self.require_tag_func and not self.require_tag_func(tag):\n",
    "            return False\n",
    "        return True\n",
    "    \n",
    "    def tokenize(self, s):\n",
    "        words = pseg.cut(s)\n",
    "        words = map(lambda x: self.post_process_word(x), words)\n",
    "        words = filter(lambda x: self.is_valid_word(x), words)\n",
    "        words = [word for word, _ in words]\n",
    "        return words\n",
    "    \n",
    "    def __call__(self, doc):\n",
    "        return self.tokenize(doc)\n",
    "\n",
    "chn_tokenizer = ChineseTokenizer(stopwords=stopwords, \n",
    "                                 post_word_process_func=post_word_process_func, \n",
    "                                 require_tag_func=require_tag_func, \n",
    "                                 # 最小词长度设置为2\n",
    "                                 min_length=2)"
   ]
  },
  {
   "cell_type": "markdown",
   "metadata": {},
   "source": [
    "对语料进行分词，建立document-term矩阵"
   ]
  },
  {
   "cell_type": "code",
   "execution_count": 4,
   "metadata": {},
   "outputs": [
    {
     "name": "stderr",
     "output_type": "stream",
     "text": [
      "Building prefix dict from the default dictionary ...\n",
      "Loading model from cache /var/folders/24/5z49fxqn0zx_9ymk936f_9t00000gn/T/jieba.cache\n",
      "Loading model cost 0.934 seconds.\n",
      "Prefix dict has been built succesfully.\n"
     ]
    }
   ],
   "source": [
    "from sklearn.feature_extraction.text import CountVectorizer\n",
    "\n",
    "count_vect = CountVectorizer(tokenizer=chn_tokenizer, lowercase=False, \n",
    "                             min_df=3, max_df=0.8, max_features=2000)\n",
    "\n",
    "X = count_vect.fit_transform(documents)"
   ]
  },
  {
   "cell_type": "markdown",
   "metadata": {},
   "source": [
    "`TF-IDF`转换"
   ]
  },
  {
   "cell_type": "code",
   "execution_count": 5,
   "metadata": {},
   "outputs": [],
   "source": [
    "from sklearn.feature_extraction.text import TfidfTransformer\n",
    "\n",
    "tfidf_transformer = TfidfTransformer(norm='l2')\n",
    "X_tfidf = tfidf_transformer.fit_transform(X)"
   ]
  },
  {
   "cell_type": "markdown",
   "metadata": {},
   "source": [
    "### 文档聚类"
   ]
  },
  {
   "cell_type": "markdown",
   "metadata": {},
   "source": [
    "使用`k-means`聚类算法，尝试20个聚类结果，并通过观察`内聚度`来选定聚类个数"
   ]
  },
  {
   "cell_type": "code",
   "execution_count": 6,
   "metadata": {},
   "outputs": [],
   "source": [
    "from sklearn.cluster import KMeans\n",
    "\n",
    "cluster_range = range(1, 20)\n",
    "inertia_list = []\n",
    "for i in cluster_range:\n",
    "    km = KMeans(n_clusters=i, init='k-means++', random_state=1024, n_jobs=-1)\n",
    "    km.fit(X_tfidf)\n",
    "    inertia_list.append(km.inertia_)"
   ]
  },
  {
   "cell_type": "code",
   "execution_count": 7,
   "metadata": {},
   "outputs": [
    {
     "data": {
      "image/png": "[encoded data removed]",
      "text/plain": [
       "<matplotlib.figure.Figure at 0x1023d7c50>"
      ]
     },
     "metadata": {},
     "output_type": "display_data"
    }
   ],
   "source": [
    "%matplotlib inline\n",
    "import matplotlib.pyplot as plt\n",
    "\n",
    "plt.plot(cluster_range, inertia_list, marker='o')\n",
    "plt.xlabel('Number of clusters')\n",
    "plt.ylabel('Inertia')\n",
    "plt.show()"
   ]
  },
  {
   "cell_type": "markdown",
   "metadata": {},
   "source": [
    "从`内聚度`趋势图上来看，并不能找到明显的_拐点_，可能比较难以选定个数。这里选定K为8，将文本分为8个聚类"
   ]
  },
  {
   "cell_type": "code",
   "execution_count": 8,
   "metadata": {},
   "outputs": [
    {
     "data": {
      "text/plain": [
       "{0: 7, 1: 53, 2: 352, 3: 25, 4: 3, 5: 1, 6: 10, 7: 3}"
      ]
     },
     "execution_count": 8,
     "metadata": {},
     "output_type": "execute_result"
    }
   ],
   "source": [
    "import numpy as np\n",
    "\n",
    "km = KMeans(n_clusters=8, init='k-means++', random_state=1024, n_jobs=-1)\n",
    "y_km = km.fit_predict(X)\n",
    "\n",
    "cl, num = np.unique(y_km, return_counts=True)\n",
    "cluster_size = dict(zip(cl, num))\n",
    "cluster_size"
   ]
  },
  {
   "cell_type": "markdown",
   "metadata": {},
   "source": [
    "### 提取主题"
   ]
  },
  {
   "cell_type": "markdown",
   "metadata": {},
   "source": [
    "提取相应文档聚类中的语料"
   ]
  },
  {
   "cell_type": "code",
   "execution_count": 9,
   "metadata": {},
   "outputs": [],
   "source": [
    "from gensim import corpora\n",
    "from gensim.matutils import Sparse2Corpus\n",
    "\n",
    "def get_corpus_dictionary(X, cluster_index, cluster_num, count_vect):\n",
    "    index = np.where(cluster_index == cluster_num)\n",
    "    X_cluster = X[index[0], :]\n",
    "    corpus = Sparse2Corpus(X_cluster, documents_columns=False)\n",
    "    dictionary = corpora.Dictionary.from_corpus(corpus, id2word=dict((id, word) for word, id \n",
    "                                                                     in count_vect.vocabulary_.items()))\n",
    "    return corpus, dictionary\n",
    "    "
   ]
  },
  {
   "cell_type": "code",
   "execution_count": 10,
   "metadata": {
    "scrolled": false
   },
   "outputs": [],
   "source": [
    "from gensim import models\n",
    "\n",
    "cor_dict = []\n",
    "for cluster_num in np.unique(y_km):\n",
    "    corpus, dictionary = get_corpus_dictionary(X, y_km, cluster_num, count_vect)\n",
    "    cor_dict.append((corpus, dictionary))"
   ]
  },
  {
   "cell_type": "markdown",
   "metadata": {},
   "source": [
    "训练LDA模型"
   ]
  },
  {
   "cell_type": "code",
   "execution_count": 11,
   "metadata": {},
   "outputs": [],
   "source": [
    "from gensim import models\n",
    "\n",
    "lda_models = []\n",
    "for corpus, dictionary in cor_dict:\n",
    "    lda_model = models.LdaModel(corpus, id2word=dictionary, num_topics=1, iterations=50, random_state=1024)\n",
    "    lda_models.append(lda_model)"
   ]
  },
  {
   "cell_type": "markdown",
   "metadata": {},
   "source": [
    "提取主题词"
   ]
  },
  {
   "cell_type": "code",
   "execution_count": 12,
   "metadata": {},
   "outputs": [
    {
     "name": "stdout",
     "output_type": "stream",
     "text": [
      "cluster@1 size@7 topic@['音乐', '文化', '戏剧', '乐器', '历史剧', '艺术', '表演', '时代']\n",
      "cluster@2 size@53 topic@['文化', '史学', '理论', '问题', '传统', '思想', '方法', '民族']\n",
      "cluster@3 size@352 topic@['问题', '经济', '政治', '文化', '时期', '革命', '国家', '民族']\n",
      "cluster@4 size@25 topic@['美国', '世界', '国家', '经济', '资本主义', '民族', '战争', '政治']\n",
      "cluster@5 size@3 topic@['语言', '理论', '语法', '结构', '混合', '语义', '汉语', '语言学']\n",
      "cluster@6 size@1 topic@['平面', '语法', '语义', '结构', '句法', '句子', '意义', '形式']\n",
      "cluster@7 size@10 topic@['小说', '创作', '艺术', '作品', '文学', '作家', '文化', '表现']\n",
      "cluster@8 size@3 topic@['鲁迅', '思想', '文化', '鲁迅研究', '政治', '革命', '知识分子', '作品']\n"
     ]
    }
   ],
   "source": [
    "for cluster_num, lda_model in enumerate(lda_models):\n",
    "    topics = [word for word, _ in lda_model.show_topics(num_words=8, formatted=False)[0][1]]\n",
    "    size = cluster_size[cluster_num]\n",
    "    print('cluster@%d size@%d topic@%s' % (cluster_num + 1, size, topics))"
   ]
  }
 ],
 "metadata": {
  "kernelspec": {
   "display_name": "Python 3",
   "language": "python",
   "name": "python3"
  },
  "language_info": {
   "codemirror_mode": {
    "name": "ipython",
    "version": 3
   },
   "file_extension": ".py",
   "mimetype": "text/x-python",
   "name": "python",
   "nbconvert_exporter": "python",
   "pygments_lexer": "ipython3",
   "version": "3.6.3"
  }
 },
 "nbformat": 4,
 "nbformat_minor": 2
}
